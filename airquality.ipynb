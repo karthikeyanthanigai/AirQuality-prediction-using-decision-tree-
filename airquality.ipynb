{
  "nbformat": 4,
  "nbformat_minor": 0,
  "metadata": {
    "colab": {
      "name": "airquality.ipynb",
      "provenance": [],
      "authorship_tag": "ABX9TyNCPZPORv/LqzVL7WF2WYJb",
      "include_colab_link": true
    },
    "kernelspec": {
      "name": "python3",
      "display_name": "Python 3"
    }
  },
  "cells": [
    {
      "cell_type": "markdown",
      "metadata": {
        "id": "view-in-github",
        "colab_type": "text"
      },
      "source": [
        "<a href=\"https://colab.research.google.com/github/karthikeyanthanigai/AirQuality-prediction-using-decision-tree-/blob/master/airquality.ipynb\" target=\"_parent\"><img src=\"https://colab.research.google.com/assets/colab-badge.svg\" alt=\"Open In Colab\"/></a>"
      ]
    },
    {
      "cell_type": "code",
      "metadata": {
        "id": "eNx-5hsubRgO",
        "colab_type": "code",
        "colab": {}
      },
      "source": [
        "\n",
        "# Importing the libraries\n",
        "import numpy as np\n",
        "import pandas as pd\n",
        "import matplotlib.pyplot as plt"
      ],
      "execution_count": 0,
      "outputs": []
    },
    {
      "cell_type": "markdown",
      "metadata": {
        "id": "USmdmuPQb52x",
        "colab_type": "text"
      },
      "source": [
        "![alt text](https://solarimpulse.com/img/topics/air-pollution-header.jpg)"
      ]
    },
    {
      "cell_type": "code",
      "metadata": {
        "id": "PIAo3ruAbqoZ",
        "colab_type": "code",
        "colab": {
          "base_uri": "https://localhost:8080/",
          "height": 334
        },
        "outputId": "c9258af2-8df8-4dd6-8d9e-372665763e7e"
      },
      "source": [
        "# Importing the dataset\n",
        "dataset = pd.read_csv(\"AirQuality.csv\")\n",
        "#this function will provide the descriptive statistics of the dataset.(only int value)\n",
        "dataset.describe()"
      ],
      "execution_count": 2,
      "outputs": [
        {
          "output_type": "execute_result",
          "data": {
            "text/html": [
              "<div>\n",
              "<style scoped>\n",
              "    .dataframe tbody tr th:only-of-type {\n",
              "        vertical-align: middle;\n",
              "    }\n",
              "\n",
              "    .dataframe tbody tr th {\n",
              "        vertical-align: top;\n",
              "    }\n",
              "\n",
              "    .dataframe thead th {\n",
              "        text-align: right;\n",
              "    }\n",
              "</style>\n",
              "<table border=\"1\" class=\"dataframe\">\n",
              "  <thead>\n",
              "    <tr style=\"text-align: right;\">\n",
              "      <th></th>\n",
              "      <th>CO(GT)</th>\n",
              "      <th>PT08.S1(CO)</th>\n",
              "      <th>NMHC(GT)</th>\n",
              "      <th>C6H6(GT)</th>\n",
              "      <th>PT08.S2(NMHC)</th>\n",
              "      <th>NOx(GT)</th>\n",
              "      <th>PT08.S3(NOx)</th>\n",
              "      <th>NO2(GT)</th>\n",
              "      <th>PT08.S4(NO2)</th>\n",
              "      <th>PT08.S5(O3)</th>\n",
              "      <th>T</th>\n",
              "      <th>RH</th>\n",
              "      <th>AH</th>\n",
              "      <th>Unnamed: 15</th>\n",
              "      <th>Unnamed: 16</th>\n",
              "    </tr>\n",
              "  </thead>\n",
              "  <tbody>\n",
              "    <tr>\n",
              "      <th>count</th>\n",
              "      <td>9357.000000</td>\n",
              "      <td>9357.000000</td>\n",
              "      <td>9357.000000</td>\n",
              "      <td>9357.000000</td>\n",
              "      <td>9357.000000</td>\n",
              "      <td>9357.000000</td>\n",
              "      <td>9357.000000</td>\n",
              "      <td>9357.000000</td>\n",
              "      <td>9357.000000</td>\n",
              "      <td>9357.000000</td>\n",
              "      <td>9357.000000</td>\n",
              "      <td>9357.000000</td>\n",
              "      <td>9357.000000</td>\n",
              "      <td>0.0</td>\n",
              "      <td>0.0</td>\n",
              "    </tr>\n",
              "    <tr>\n",
              "      <th>mean</th>\n",
              "      <td>-34.207524</td>\n",
              "      <td>1048.990061</td>\n",
              "      <td>-159.090093</td>\n",
              "      <td>1.865683</td>\n",
              "      <td>894.595276</td>\n",
              "      <td>168.616971</td>\n",
              "      <td>794.990168</td>\n",
              "      <td>58.148873</td>\n",
              "      <td>1391.479641</td>\n",
              "      <td>975.072032</td>\n",
              "      <td>9.778305</td>\n",
              "      <td>39.485380</td>\n",
              "      <td>-6.837604</td>\n",
              "      <td>NaN</td>\n",
              "      <td>NaN</td>\n",
              "    </tr>\n",
              "    <tr>\n",
              "      <th>std</th>\n",
              "      <td>77.657170</td>\n",
              "      <td>329.832710</td>\n",
              "      <td>139.789093</td>\n",
              "      <td>41.380206</td>\n",
              "      <td>342.333252</td>\n",
              "      <td>257.433866</td>\n",
              "      <td>321.993552</td>\n",
              "      <td>126.940455</td>\n",
              "      <td>467.210125</td>\n",
              "      <td>456.938184</td>\n",
              "      <td>43.203623</td>\n",
              "      <td>51.216145</td>\n",
              "      <td>38.976670</td>\n",
              "      <td>NaN</td>\n",
              "      <td>NaN</td>\n",
              "    </tr>\n",
              "    <tr>\n",
              "      <th>min</th>\n",
              "      <td>-200.000000</td>\n",
              "      <td>-200.000000</td>\n",
              "      <td>-200.000000</td>\n",
              "      <td>-200.000000</td>\n",
              "      <td>-200.000000</td>\n",
              "      <td>-200.000000</td>\n",
              "      <td>-200.000000</td>\n",
              "      <td>-200.000000</td>\n",
              "      <td>-200.000000</td>\n",
              "      <td>-200.000000</td>\n",
              "      <td>-200.000000</td>\n",
              "      <td>-200.000000</td>\n",
              "      <td>-200.000000</td>\n",
              "      <td>NaN</td>\n",
              "      <td>NaN</td>\n",
              "    </tr>\n",
              "    <tr>\n",
              "      <th>25%</th>\n",
              "      <td>0.600000</td>\n",
              "      <td>921.000000</td>\n",
              "      <td>-200.000000</td>\n",
              "      <td>4.000000</td>\n",
              "      <td>711.000000</td>\n",
              "      <td>50.000000</td>\n",
              "      <td>637.000000</td>\n",
              "      <td>53.000000</td>\n",
              "      <td>1185.000000</td>\n",
              "      <td>700.000000</td>\n",
              "      <td>10.900000</td>\n",
              "      <td>34.100000</td>\n",
              "      <td>0.692300</td>\n",
              "      <td>NaN</td>\n",
              "      <td>NaN</td>\n",
              "    </tr>\n",
              "    <tr>\n",
              "      <th>50%</th>\n",
              "      <td>1.500000</td>\n",
              "      <td>1053.000000</td>\n",
              "      <td>-200.000000</td>\n",
              "      <td>7.900000</td>\n",
              "      <td>895.000000</td>\n",
              "      <td>141.000000</td>\n",
              "      <td>794.000000</td>\n",
              "      <td>96.000000</td>\n",
              "      <td>1446.000000</td>\n",
              "      <td>942.000000</td>\n",
              "      <td>17.200000</td>\n",
              "      <td>48.600000</td>\n",
              "      <td>0.976800</td>\n",
              "      <td>NaN</td>\n",
              "      <td>NaN</td>\n",
              "    </tr>\n",
              "    <tr>\n",
              "      <th>75%</th>\n",
              "      <td>2.600000</td>\n",
              "      <td>1221.000000</td>\n",
              "      <td>-200.000000</td>\n",
              "      <td>13.600000</td>\n",
              "      <td>1105.000000</td>\n",
              "      <td>284.000000</td>\n",
              "      <td>960.000000</td>\n",
              "      <td>133.000000</td>\n",
              "      <td>1662.000000</td>\n",
              "      <td>1255.000000</td>\n",
              "      <td>24.100000</td>\n",
              "      <td>61.900000</td>\n",
              "      <td>1.296200</td>\n",
              "      <td>NaN</td>\n",
              "      <td>NaN</td>\n",
              "    </tr>\n",
              "    <tr>\n",
              "      <th>max</th>\n",
              "      <td>11.900000</td>\n",
              "      <td>2040.000000</td>\n",
              "      <td>1189.000000</td>\n",
              "      <td>63.700000</td>\n",
              "      <td>2214.000000</td>\n",
              "      <td>1479.000000</td>\n",
              "      <td>2683.000000</td>\n",
              "      <td>340.000000</td>\n",
              "      <td>2775.000000</td>\n",
              "      <td>2523.000000</td>\n",
              "      <td>44.600000</td>\n",
              "      <td>88.700000</td>\n",
              "      <td>2.231000</td>\n",
              "      <td>NaN</td>\n",
              "      <td>NaN</td>\n",
              "    </tr>\n",
              "  </tbody>\n",
              "</table>\n",
              "</div>"
            ],
            "text/plain": [
              "            CO(GT)  PT08.S1(CO)  ...  Unnamed: 15  Unnamed: 16\n",
              "count  9357.000000  9357.000000  ...          0.0          0.0\n",
              "mean    -34.207524  1048.990061  ...          NaN          NaN\n",
              "std      77.657170   329.832710  ...          NaN          NaN\n",
              "min    -200.000000  -200.000000  ...          NaN          NaN\n",
              "25%       0.600000   921.000000  ...          NaN          NaN\n",
              "50%       1.500000  1053.000000  ...          NaN          NaN\n",
              "75%       2.600000  1221.000000  ...          NaN          NaN\n",
              "max      11.900000  2040.000000  ...          NaN          NaN\n",
              "\n",
              "[8 rows x 15 columns]"
            ]
          },
          "metadata": {
            "tags": []
          },
          "execution_count": 2
        }
      ]
    },
    {
      "cell_type": "code",
      "metadata": {
        "id": "QzzCOE0jbqY9",
        "colab_type": "code",
        "colab": {}
      },
      "source": [
        "#determine X and y variables(this values are taken as independent variables and dependent variable)\n",
        "X = dataset.iloc[:9356,[2,3,4,5,6,7,8,9,10,11,12]].values\n",
        "y = dataset.iloc[:9356,-3].values"
      ],
      "execution_count": 0,
      "outputs": []
    },
    {
      "cell_type": "markdown",
      "metadata": {
        "id": "UBlz7lgkcB3L",
        "colab_type": "text"
      },
      "source": [
        "In this dataset we have last two column values as nan(None)so leave this column,and there are only 9356 rows which as values so we are taking this values only!!(the rest rows vlaues are nan(None))"
      ]
    },
    {
      "cell_type": "code",
      "metadata": {
        "id": "_35ODiiLbqQj",
        "colab_type": "code",
        "colab": {}
      },
      "source": [
        "#split\n",
        "from sklearn.model_selection import train_test_split\n",
        "X_train, X_test, y_train,y_test = train_test_split(X, y , test_size=0.4, random_state = 0, shuffle = True )\n"
      ],
      "execution_count": 0,
      "outputs": []
    },
    {
      "cell_type": "code",
      "metadata": {
        "id": "cdotLIhKbqF_",
        "colab_type": "code",
        "colab": {
          "base_uri": "https://localhost:8080/",
          "height": 119
        },
        "outputId": "148ce31e-cd00-4e1e-fd6a-77fce55b6030"
      },
      "source": [
        "#decision tree\n",
        "from sklearn.tree import DecisionTreeRegressor\n",
        "regressor = DecisionTreeRegressor(max_features='sqrt')\n",
        "regressor.fit(X_train,y_train)\n"
      ],
      "execution_count": 5,
      "outputs": [
        {
          "output_type": "execute_result",
          "data": {
            "text/plain": [
              "DecisionTreeRegressor(ccp_alpha=0.0, criterion='mse', max_depth=None,\n",
              "                      max_features='sqrt', max_leaf_nodes=None,\n",
              "                      min_impurity_decrease=0.0, min_impurity_split=None,\n",
              "                      min_samples_leaf=1, min_samples_split=2,\n",
              "                      min_weight_fraction_leaf=0.0, presort='deprecated',\n",
              "                      random_state=None, splitter='best')"
            ]
          },
          "metadata": {
            "tags": []
          },
          "execution_count": 5
        }
      ]
    },
    {
      "cell_type": "code",
      "metadata": {
        "id": "2iQmDMZBbp9W",
        "colab_type": "code",
        "colab": {}
      },
      "source": [
        "#predict the test data\n",
        "y_pred = regressor.predict(X_test)\n"
      ],
      "execution_count": 0,
      "outputs": []
    },
    {
      "cell_type": "code",
      "metadata": {
        "id": "yGm6UlP7bp2K",
        "colab_type": "code",
        "colab": {
          "base_uri": "https://localhost:8080/",
          "height": 34
        },
        "outputId": "9d3a8d5b-337d-47d4-858d-41bc37fc086d"
      },
      "source": [
        "#r2score\n",
        "from sklearn.metrics import r2_score\n",
        "r_squared = r2_score(y_test, y_pred)\n",
        "print(r_squared)"
      ],
      "execution_count": 7,
      "outputs": [
        {
          "output_type": "stream",
          "text": [
            "0.9999781955475756\n"
          ],
          "name": "stdout"
        }
      ]
    },
    {
      "cell_type": "code",
      "metadata": {
        "id": "FK4c6J03cl95",
        "colab_type": "code",
        "colab": {}
      },
      "source": [
        ""
      ],
      "execution_count": 0,
      "outputs": []
    }
  ]
}